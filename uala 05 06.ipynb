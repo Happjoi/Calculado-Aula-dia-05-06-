{
 "cells": [
  {
   "cell_type": "code",
   "execution_count": 1,
   "metadata": {},
   "outputs": [
    {
     "name": "stdout",
     "output_type": "stream",
     "text": [
      "Número 0\n",
      "Número 1\n",
      "Número 2\n",
      "Número 3\n",
      "Número 4\n"
     ]
    }
   ],
   "source": [
    "def funcaoLeitura():\n",
    "    for i in range(5):\n",
    "        print(\"Número\", i)\n",
    "\n"
   ]
  },
  {
   "cell_type": "code",
   "execution_count": 2,
   "metadata": {},
   "outputs": [
    {
     "name": "stdout",
     "output_type": "stream",
     "text": [
      "Número 0\n",
      "Número 1\n",
      "Número 2\n",
      "Número 3\n",
      "Número 4\n"
     ]
    }
   ],
   "source": [
    "funcaoLeitura()"
   ]
  },
  {
   "cell_type": "code",
   "execution_count": 4,
   "metadata": {},
   "outputs": [],
   "source": [
    "def addNum(n1, n2):\n",
    "    print(\"O primeiro número é:\", n1)\n",
    "    print(\"O segundo número é:\", n2)\n",
    "    print(\"A soma número é:\", n1+n2)"
   ]
  },
  {
   "cell_type": "code",
   "execution_count": 5,
   "metadata": {},
   "outputs": [
    {
     "name": "stdout",
     "output_type": "stream",
     "text": [
      "O primeiro número é: 2\n",
      "O segundo número é: 3\n",
      "A soma número é: 5\n"
     ]
    }
   ],
   "source": [
    "addNum(2, 3)"
   ]
  },
  {
   "cell_type": "code",
   "execution_count": 6,
   "metadata": {},
   "outputs": [
    {
     "name": "stdout",
     "output_type": "stream",
     "text": [
      "O primeiro número é: 4\n",
      "O segundo número é: 3\n",
      "A soma número é: 7\n"
     ]
    }
   ],
   "source": [
    "addNum(4, 3)"
   ]
  },
  {
   "cell_type": "code",
   "execution_count": 31,
   "metadata": {},
   "outputs": [
    {
     "name": "stdout",
     "output_type": "stream",
     "text": [
      "Variável da função multiplica:  20\n",
      "10\n"
     ]
    }
   ],
   "source": [
    "varGlobal = 10 #essa é uma variável global\n",
    "def multiplica(num1, num2):\n",
    "    varLocal = (num1 * num2) #essa é uma variável local\n",
    "    print(\"Variável da função multiplica: \", varLocal)\n",
    "    \n",
    "multiplica(5, 4)\n",
    "print(varGlobal)"
   ]
  },
  {
   "cell_type": "code",
   "execution_count": 16,
   "metadata": {},
   "outputs": [
    {
     "name": "stdout",
     "output_type": "stream",
     "text": [
      "Variável da função multiplica:  20\n"
     ]
    }
   ],
   "source": [
    "multiplica(5, 4)"
   ]
  },
  {
   "cell_type": "code",
   "execution_count": 30,
   "metadata": {},
   "outputs": [],
   "source": [
    "def funcaoLeitura():\n",
    "    for nume in range(5):\n",
    "        print(\"Número \", num)"
   ]
  },
  {
   "cell_type": "code",
   "execution_count": 32,
   "metadata": {},
   "outputs": [],
   "source": [
    "def separarTexto(texto):\n",
    "    return texto.split()"
   ]
  },
  {
   "cell_type": "code",
   "execution_count": 34,
   "metadata": {},
   "outputs": [
    {
     "data": {
      "text/plain": [
       "['Cibele', 'Maria', 'Suely']"
      ]
     },
     "execution_count": 34,
     "metadata": {},
     "output_type": "execute_result"
    }
   ],
   "source": [
    "separarTexto(\"Cibele Maria Suely\")"
   ]
  },
  {
   "cell_type": "code",
   "execution_count": 64,
   "metadata": {},
   "outputs": [],
   "source": [
    "def variosParametros(*parametros):\n",
    "    for n, item in enumerate(parametros):\n",
    "        print(\"Parâmetro\", n, item)\n",
    "    return"
   ]
  },
  {
   "cell_type": "code",
   "execution_count": 65,
   "metadata": {},
   "outputs": [
    {
     "name": "stdout",
     "output_type": "stream",
     "text": [
      "Parâmetro 0 Cibele\n",
      "Parâmetro 1 Suely\n",
      "Parâmetro 2 Giggio\n",
      "Parâmetro 3 Madá\n",
      "Parâmetro 4 Luquinhas\n"
     ]
    }
   ],
   "source": [
    "variosParametros('Cibele', 'Suely', 'Giggio', 'Madá', 'Luquinhas')"
   ]
  },
  {
   "cell_type": "code",
   "execution_count": 2,
   "metadata": {},
   "outputs": [],
   "source": [
    "def soma1(n1, n2):\n",
    "    return n1+n2\n",
    "\n",
    "def subtrair1(n1, n2):\n",
    "    return n1-n2\n",
    "\n",
    "def multiplicar1(n1, n2):\n",
    "    return n1*n2\n",
    "\n",
    "def divide1(n1, n2):\n",
    "    return n1/n2\n",
    "\n"
   ]
  },
  {
   "cell_type": "code",
   "execution_count": 8,
   "metadata": {},
   "outputs": [
    {
     "name": "stdout",
     "output_type": "stream",
     "text": [
      "+==================+\n",
      "| MENU DE OPERAÇÕES\n",
      "| 1 - Somar        \n",
      "| 2 - subtrair     \n",
      "| 3 - multiplicar  \n",
      "| 4 - dividir      \n",
      "| 0 - sair         \n",
      "+==================+\n",
      "O Resultado da divisão é: 0.5\n"
     ]
    }
   ],
   "source": [
    "while True:\n",
    "    print(\"+==================+\")\n",
    "    print(\"| MENU DE OPERAÇÕES\")\n",
    "    print(\"| 1 - Somar        \")\n",
    "    print(\"| 2 - subtrair     \")\n",
    "    print(\"| 3 - multiplicar  \")\n",
    "    print(\"| 4 - dividir      \")\n",
    "    print(\"| 0 - sair         \")\n",
    "    print(\"+==================+\")\n",
    "\n",
    "    op = int(input())\n",
    "    if op==4:\n",
    "        break\n",
    "    n1= int(input(\"Primeiro Número: \"))\n",
    "    n2= int(input(\"Segundo Número \"))\n",
    "\n",
    "    if op==0:\n",
    "        print(\"O Resultado da soma é:\", soma(n1, n2))\n",
    "        break\n",
    "    elif op==1:\n",
    "        print(\"O Resultado da sbutração é:\", subtrair(n1, n2))\n",
    "        break\n",
    "    elif op==2:\n",
    "        print(\"O Resultado da multiplicação é:\", multiplicar(n1, n2))\n",
    "        break\n",
    "    elif op==3:\n",
    "        print(\"O Resultado da divisão é:\", divide(n1, n2))\n",
    "        break\n",
    "    else:\n",
    "        print(\"Escolha as outras opções\")\n",
    "        break"
   ]
  },
  {
   "cell_type": "code",
   "execution_count": null,
   "metadata": {},
   "outputs": [],
   "source": [
    "#Calculador melhorada\n",
    "\n",
    "def soma2(n1, n2):\n",
    "    return n1 + n2\n",
    "\n",
    "def subtrair2(n1, n2):\n",
    "    return n1 - n2\n",
    "\n",
    "def multiplicar2(n1, n2):\n",
    "    return n1 * n2\n",
    "\n",
    "def dividir2(n1, n2):\n",
    "    if n2 == 0:\n",
    "        return \"Erro: Divisão por zero não é permitida.\"\n",
    "    return n1 / n2\n",
    "\n",
    "while True:\n",
    "    print(\"+==================+\")\n",
    "    print(\"| MENU DE OPERAÇÕES\")\n",
    "    print(\"| 1 - Somar        \")\n",
    "    print(\"| 2 - Subtrair     \")\n",
    "    print(\"| 3 - Multiplicar  \")\n",
    "    print(\"| 4 - Dividir      \")\n",
    "    print(\"| 0 - Sair         \")\n",
    "    print(\"+==================+\")\n",
    "\n",
    "    try:\n",
    "        op = int(input(\"Escolha uma operação: \"))\n",
    "        if op == 0:\n",
    "            print(\"Saindo...\")\n",
    "            break\n",
    "        elif op in [1, 2, 3, 4]:\n",
    "            n1 = float(input(\"Primeiro Número: \"))\n",
    "            n2 = float(input(\"Segundo Número: \"))\n",
    "\n",
    "            if op == 1:\n",
    "                print(\"O Resultado da soma é:\", soma2(n1, n2))\n",
    "            elif op == 2:\n",
    "                print(\"O Resultado da subtração é:\", subtrair2(n1, n2))\n",
    "            elif op == 3:\n",
    "                print(\"O Resultado da multiplicação é:\", multiplicar2(n1, n2))\n",
    "            elif op == 4:\n",
    "                print(\"O Resultado da divisão é:\", dividir2(n1, n2))\n",
    "        else:\n",
    "            print(\"Escolha inválida. Tente novamente.\")\n",
    "    except ValueError:\n",
    "        print(\"Entrada inválida. Por favor, insira um número.\")"
   ]
  }
 ],
 "metadata": {
  "kernelspec": {
   "display_name": "Python 3",
   "language": "python",
   "name": "python3"
  },
  "language_info": {
   "codemirror_mode": {
    "name": "ipython",
    "version": 3
   },
   "file_extension": ".py",
   "mimetype": "text/x-python",
   "name": "python",
   "nbconvert_exporter": "python",
   "pygments_lexer": "ipython3",
   "version": "3.11.9"
  }
 },
 "nbformat": 4,
 "nbformat_minor": 2
}
