{
 "cells": [
  {
   "cell_type": "code",
   "execution_count": 1,
   "metadata": {},
   "outputs": [
    {
     "name": "stdout",
     "output_type": "stream",
     "text": [
      "Número 0\n",
      "Número 1\n",
      "Número 2\n",
      "Número 3\n",
      "Número 4\n"
     ]
    }
   ],
   "source": [
    "def funcaoLeitura():\n",
    "    for i in range(5):\n",
    "        print(\"Número\", i)\n",
    "\n"
   ]
  },
  {
   "cell_type": "code",
   "execution_count": 2,
   "metadata": {},
   "outputs": [
    {
     "name": "stdout",
     "output_type": "stream",
     "text": [
      "Número 0\n",
      "Número 1\n",
      "Número 2\n",
      "Número 3\n",
      "Número 4\n"
     ]
    }
   ],
   "source": [
    "funcaoLeitura()"
   ]
  },
  {
   "cell_type": "code",
   "execution_count": 4,
   "metadata": {},
   "outputs": [],
   "source": [
    "def addNum(n1, n2):\n",
    "    print(\"O primeiro número é:\", n1)\n",
    "    print(\"O segundo número é:\", n2)\n",
    "    print(\"A soma número é:\", n1+n2)"
   ]
  },
  {
   "cell_type": "code",
   "execution_count": 5,
   "metadata": {},
   "outputs": [
    {
     "name": "stdout",
     "output_type": "stream",
     "text": [
      "O primeiro número é: 2\n",
      "O segundo número é: 3\n",
      "A soma número é: 5\n"
     ]
    }
   ],
   "source": [
    "addNum(2, 3)"
   ]
  },
  {
   "cell_type": "code",
   "execution_count": 6,
   "metadata": {},
   "outputs": [
    {
     "name": "stdout",
     "output_type": "stream",
     "text": [
      "O primeiro número é: 4\n",
      "O segundo número é: 3\n",
      "A soma número é: 7\n"
     ]
    }
   ],
   "source": [
    "addNum(4, 3)"
   ]
  },
  {
   "cell_type": "code",
   "execution_count": 31,
   "metadata": {},
   "outputs": [
    {
     "name": "stdout",
     "output_type": "stream",
     "text": [
      "Variável da função multiplica:  20\n",
      "10\n"
     ]
    }
   ],
   "source": [
    "varGlobal = 10 #essa é uma variável global\n",
    "def multiplica(num1, num2):\n",
    "    varLocal = (num1 * num2) #essa é uma variável local\n",
    "    print(\"Variável da função multiplica: \", varLocal)\n",
    "    \n",
    "multiplica(5, 4)\n",
    "print(varGlobal)"
   ]
  },
  {
   "cell_type": "code",
   "execution_count": 16,
   "metadata": {},
   "outputs": [
    {
     "name": "stdout",
     "output_type": "stream",
     "text": [
      "Variável da função multiplica:  20\n"
     ]
    }
   ],
   "source": [
    "multiplica(5, 4)"
   ]
  },
  {
   "cell_type": "code",
   "execution_count": 30,
   "metadata": {},
   "outputs": [],
   "source": [
    "def funcaoLeitura():\n",
    "    for nume in range(5):\n",
    "        print(\"Número \", num)"
   ]
  },
  {
   "cell_type": "code",
   "execution_count": 32,
   "metadata": {},
   "outputs": [],
   "source": [
    "def separarTexto(texto):\n",
    "    return texto.split()"
   ]
  },
  {
   "cell_type": "code",
   "execution_count": 34,
   "metadata": {},
   "outputs": [
    {
     "data": {
      "text/plain": [
       "['Cibele', 'Maria', 'Suely']"
      ]
     },
     "execution_count": 34,
     "metadata": {},
     "output_type": "execute_result"
    }
   ],
   "source": [
    "separarTexto(\"Cibele Maria Suely\")"
   ]
  },
  {
   "cell_type": "code",
   "execution_count": 64,
   "metadata": {},
   "outputs": [],
   "source": [
    "def variosParametros(*parametros):\n",
    "    for n, item in enumerate(parametros):\n",
    "        print(\"Parâmetro\", n, item)\n",
    "    return"
   ]
  },
  {
   "cell_type": "code",
   "execution_count": 65,
   "metadata": {},
   "outputs": [
    {
     "name": "stdout",
     "output_type": "stream",
     "text": [
      "Parâmetro 0 Cibele\n",
      "Parâmetro 1 Suely\n",
      "Parâmetro 2 Giggio\n",
      "Parâmetro 3 Madá\n",
      "Parâmetro 4 Luquinhas\n"
     ]
    }
   ],
   "source": [
    "variosParametros('Cibele', 'Suely', 'Giggio', 'Madá', 'Luquinhas')"
   ]
  },
  {
   "cell_type": "code",
   "execution_count": 2,
   "metadata": {},
   "outputs": [],
   "source": [
    "def soma1(n1, n2):\n",
    "    return n1+n2\n",
    "\n",
    "def subtrair1(n1, n2):\n",
    "    return n1-n2\n",
    "\n",
    "def multiplicar1(n1, n2):\n",
    "    return n1*n2\n",
    "\n",
    "def divide1(n1, n2):\n",
    "    return n1/n2\n",
    "\n"
   ]
  },
  {
   "cell_type": "code",
   "execution_count": 8,
   "metadata": {},
   "outputs": [
    {
     "name": "stdout",
     "output_type": "stream",
     "text": [
      "+==================+\n",
      "| MENU DE OPERAÇÕES\n",
      "| 1 - Somar        \n",
      "| 2 - subtrair     \n",
      "| 3 - multiplicar  \n",
      "| 4 - dividir      \n",
      "| 0 - sair         \n",
      "+==================+\n",
      "O Resultado da divisão é: 0.5\n"
     ]
    }
   ],
   "source": [
    "while True:\n",
    "    print(\"+==================+\")\n",
    "    print(\"| MENU DE OPERAÇÕES\")\n",
    "    print(\"| 1 - Somar        \")\n",
    "    print(\"| 2 - subtrair     \")\n",
    "    print(\"| 3 - multiplicar  \")\n",
    "    print(\"| 4 - dividir      \")\n",
    "    print(\"| 0 - sair         \")\n",
    "    print(\"+==================+\")\n",
    "\n",
    "    op = int(input())\n",
    "    if op==4:\n",
    "        break\n",
    "    n1= int(input(\"Primeiro Número: \"))\n",
    "    n2= int(input(\"Segundo Número \"))\n",
    "\n",
    "    if op==0:\n",
    "        print(\"O Resultado da soma é:\", soma(n1, n2))\n",
    "        break\n",
    "    elif op==1:\n",
    "        print(\"O Resultado da sbutração é:\", subtrair(n1, n2))\n",
    "        break\n",
    "    elif op==2:\n",
    "        print(\"O Resultado da multiplicação é:\", multiplicar(n1, n2))\n",
    "        break\n",
    "    elif op==3:\n",
    "        print(\"O Resultado da divisão é:\", divide(n1, n2))\n",
    "        break\n",
    "    else:\n",
    "        print(\"Escolha as outras opções\")\n",
    "        break"
   ]
  },
  {
   "cell_type": "code",
   "execution_count": null,
   "metadata": {},
   "outputs": [],
   "source": [
    "while True:\n",
    "    print(\" ____________\")\n",
    "    print(\"|                                    |\")\n",
    "    print(\"|      DIGITE UM NÚMERO CONFORME     |\")\n",
    "    print(\"|     O TIPO DE CÁLCULO DESEJADO     |\")\n",
    "    print(\"|            1 - Soma                |\")\n",
    "    print(\"|            2 - Multiplicação       |\")\n",
    "    print(\"|            3 - Subtração           |\")\n",
    "    print(\"|            4 - Divisão             |\")\n",
    "    print(\"|            5 - sair                |\")\n",
    "    print(\"|____________|\")\n",
    "\n",
    "    saida = int(input(\"Qual tipo de operação você deseja?  \"))\n",
    "    \n",
    "    if saida == 5:\n",
    "        print(\"Obrigado por utilizar nossa calculadora!\")\n",
    "        break\n",
    "    \n",
    "    numOne = int(input(\"Agora preciso do primeiro número para executar a operação desejada  \"))\n",
    "    numSec = int(input(\"Agora preciso do segundo número para executar a operação desejada   \"))\n",
    "    print(\"Perfeito!\")\n",
    "\n",
    "    if saida == 1:\n",
    "        result = numOne + numSec\n",
    "        print(\"O resultado da sua opreação é: \", + result)\n",
    "    elif saida == 2:\n",
    "        result = numOne * numSec\n",
    "        print(\"O resultado da sua opreação é: \", + result)\n",
    "    elif saida == 3:\n",
    "        result = numOne - numSec\n",
    "        print(\"O resultado da sua opreação é: \", + result)\n",
    "    elif saida == 4:\n",
    "        if numSec == 0:\n",
    "            print(\"Nenhum número pode ser dividido por zero!\")\n",
    "        else:\n",
    "            result = numOne / numSec\n",
    "            print(\"O resultado da divisão é:\", result)\n",
    "\n",
    "    saida = str(input(\"Deseja continuar? s/n  \"))\n",
    "    \n",
    "    if saida == \"n\":\n",
    "        print(\"Obrigado por utilizar nossa calculadora!\")\n",
    "        break\n",
    "    elif saida == \"s\":\n",
    "        print(\"Perfeito! Segue abaixo a nossa tabela de operações!\")"
   ]
  }
 ],
 "metadata": {
  "kernelspec": {
   "display_name": "Python 3",
   "language": "python",
   "name": "python3"
  },
  "language_info": {
   "codemirror_mode": {
    "name": "ipython",
    "version": 3
   },
   "file_extension": ".py",
   "mimetype": "text/x-python",
   "name": "python",
   "nbconvert_exporter": "python",
   "pygments_lexer": "ipython3",
   "version": "3.11.9"
  }
 },
 "nbformat": 4,
 "nbformat_minor": 2
}
